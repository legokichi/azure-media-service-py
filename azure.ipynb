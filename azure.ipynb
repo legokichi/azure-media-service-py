{
 "cells": [
  {
   "cell_type": "code",
   "execution_count": 8,
   "metadata": {
    "collapsed": false
   },
   "outputs": [
    {
     "name": "stdout",
     "output_type": "stream",
     "text": [
      "Requirement already satisfied: azure-mgmt-resource in /home/legokichi/.pyenv/versions/anaconda3-4.1.1/lib/python3.5/site-packages\n",
      "Collecting azure-mgmt-media\n",
      "  Downloading azure_mgmt_media-0.2.0-py2.py3-none-any.whl\n",
      "Requirement already satisfied: azure-mgmt-nspkg>=2.0.0 in /home/legokichi/.pyenv/versions/anaconda3-4.1.1/lib/python3.5/site-packages (from azure-mgmt-resource)\n",
      "Requirement already satisfied: msrestazure~=0.4.11 in /home/legokichi/.pyenv/versions/anaconda3-4.1.1/lib/python3.5/site-packages (from azure-mgmt-resource)\n",
      "Requirement already satisfied: azure-common~=1.1 in /home/legokichi/.pyenv/versions/anaconda3-4.1.1/lib/python3.5/site-packages (from azure-mgmt-resource)\n",
      "Requirement already satisfied: azure-nspkg>=2.0.0 in /home/legokichi/.pyenv/versions/anaconda3-4.1.1/lib/python3.5/site-packages (from azure-mgmt-nspkg>=2.0.0->azure-mgmt-resource)\n",
      "Requirement already satisfied: msrest~=0.4.17 in /home/legokichi/.pyenv/versions/anaconda3-4.1.1/lib/python3.5/site-packages (from msrestazure~=0.4.11->azure-mgmt-resource)\n",
      "Requirement already satisfied: keyring>=5.6 in /home/legokichi/.pyenv/versions/anaconda3-4.1.1/lib/python3.5/site-packages (from msrestazure~=0.4.11->azure-mgmt-resource)\n",
      "Requirement already satisfied: adal~=0.4.0 in /home/legokichi/.pyenv/versions/anaconda3-4.1.1/lib/python3.5/site-packages (from msrestazure~=0.4.11->azure-mgmt-resource)\n",
      "Requirement already satisfied: requests~=2.14 in /home/legokichi/.pyenv/versions/anaconda3-4.1.1/lib/python3.5/site-packages (from msrest~=0.4.17->msrestazure~=0.4.11->azure-mgmt-resource)\n",
      "Requirement already satisfied: certifi>=2017.4.17 in /home/legokichi/.pyenv/versions/anaconda3-4.1.1/lib/python3.5/site-packages (from msrest~=0.4.17->msrestazure~=0.4.11->azure-mgmt-resource)\n",
      "Requirement already satisfied: requests-oauthlib>=0.5.0 in /home/legokichi/.pyenv/versions/anaconda3-4.1.1/lib/python3.5/site-packages (from msrest~=0.4.17->msrestazure~=0.4.11->azure-mgmt-resource)\n",
      "Requirement already satisfied: isodate>=0.5.4 in /home/legokichi/.pyenv/versions/anaconda3-4.1.1/lib/python3.5/site-packages (from msrest~=0.4.17->msrestazure~=0.4.11->azure-mgmt-resource)\n",
      "Requirement already satisfied: secretstorage; sys_platform == \"linux2\" or sys_platform == \"linux\" in /home/legokichi/.pyenv/versions/anaconda3-4.1.1/lib/python3.5/site-packages (from keyring>=5.6->msrestazure~=0.4.11->azure-mgmt-resource)\n",
      "Requirement already satisfied: PyJWT>=1.0.0 in /home/legokichi/.pyenv/versions/anaconda3-4.1.1/lib/python3.5/site-packages (from adal~=0.4.0->msrestazure~=0.4.11->azure-mgmt-resource)\n",
      "Requirement already satisfied: python-dateutil>=2.1.0 in /home/legokichi/.pyenv/versions/anaconda3-4.1.1/lib/python3.5/site-packages (from adal~=0.4.0->msrestazure~=0.4.11->azure-mgmt-resource)\n",
      "Requirement already satisfied: cryptography>=1.1.0 in /home/legokichi/.pyenv/versions/anaconda3-4.1.1/lib/python3.5/site-packages (from adal~=0.4.0->msrestazure~=0.4.11->azure-mgmt-resource)\n",
      "Requirement already satisfied: urllib3<1.23,>=1.21.1 in /home/legokichi/.pyenv/versions/anaconda3-4.1.1/lib/python3.5/site-packages (from requests~=2.14->msrest~=0.4.17->msrestazure~=0.4.11->azure-mgmt-resource)\n",
      "Requirement already satisfied: idna<2.7,>=2.5 in /home/legokichi/.pyenv/versions/anaconda3-4.1.1/lib/python3.5/site-packages (from requests~=2.14->msrest~=0.4.17->msrestazure~=0.4.11->azure-mgmt-resource)\n",
      "Requirement already satisfied: chardet<3.1.0,>=3.0.2 in /home/legokichi/.pyenv/versions/anaconda3-4.1.1/lib/python3.5/site-packages (from requests~=2.14->msrest~=0.4.17->msrestazure~=0.4.11->azure-mgmt-resource)\n",
      "Requirement already satisfied: oauthlib>=0.6.2 in /home/legokichi/.pyenv/versions/anaconda3-4.1.1/lib/python3.5/site-packages (from requests-oauthlib>=0.5.0->msrest~=0.4.17->msrestazure~=0.4.11->azure-mgmt-resource)\n",
      "Requirement already satisfied: six in /home/legokichi/.pyenv/versions/anaconda3-4.1.1/lib/python3.5/site-packages (from isodate>=0.5.4->msrest~=0.4.17->msrestazure~=0.4.11->azure-mgmt-resource)\n",
      "Requirement already satisfied: pyasn1>=0.1.8 in /home/legokichi/.pyenv/versions/anaconda3-4.1.1/lib/python3.5/site-packages (from cryptography>=1.1.0->adal~=0.4.0->msrestazure~=0.4.11->azure-mgmt-resource)\n",
      "Requirement already satisfied: setuptools>=11.3 in /home/legokichi/.pyenv/versions/anaconda3-4.1.1/lib/python3.5/site-packages/setuptools-23.0.0-py3.5.egg (from cryptography>=1.1.0->adal~=0.4.0->msrestazure~=0.4.11->azure-mgmt-resource)\n",
      "Requirement already satisfied: cffi>=1.4.1 in /home/legokichi/.pyenv/versions/anaconda3-4.1.1/lib/python3.5/site-packages (from cryptography>=1.1.0->adal~=0.4.0->msrestazure~=0.4.11->azure-mgmt-resource)\n",
      "Requirement already satisfied: pycparser in /home/legokichi/.pyenv/versions/anaconda3-4.1.1/lib/python3.5/site-packages (from cffi>=1.4.1->cryptography>=1.1.0->adal~=0.4.0->msrestazure~=0.4.11->azure-mgmt-resource)\n",
      "Installing collected packages: azure-mgmt-media\n",
      "Successfully installed azure-mgmt-media-0.2.0\n"
     ]
    }
   ],
   "source": [
    "%%bash\n",
    "pip install azure-mgmt-resource azure-mgmt-media"
   ]
  },
  {
   "cell_type": "code",
   "execution_count": 9,
   "metadata": {
    "collapsed": true
   },
   "outputs": [],
   "source": [
    "## Use this for Azure AD authentication\n",
    "from msrestazure.azure_active_directory import AADTokenCredentials\n",
    "\n",
    "# Common Azure imports\n",
    "import adal\n",
    "from azure.mgmt.resource.resources import ResourceManagementClient\n",
    "from azure.mgmt.resource.resources.models import ResourceGroup\n",
    "from azure.mgmt.media import MediaServicesManagementClient\n"
   ]
  },
  {
   "cell_type": "markdown",
   "metadata": {},
   "source": [
    "* https://azure-sdk-for-python.readthedocs.io/en/latest/ref/azure.mgmt.media.html\n",
    "* https://github.com/Azure/azure-sdk-for-python/tree/master/azure-mgmt-media"
   ]
  },
  {
   "cell_type": "code",
   "execution_count": 12,
   "metadata": {
    "collapsed": true
   },
   "outputs": [],
   "source": [
    "authority_host_uri = 'https://login.microsoftonline.com'\n",
    "tenant = 'sa.onmicrosoft.com'\n",
    "authority_uri = authority_host_uri + '/' + tenant\n",
    "RESOURCE = 'https://management.core.windows.net/'\n",
    "client_id = 'ca05c6ca-eb21-4d40-9f06-37449178f6dg'\n",
    "client_secret = 'F1o9p3Nrst4UoSH092k7O6rXT3rvyq8OAP2v6SEYxgs='\n",
    "\n",
    "context = adal.AuthenticationContext(authority_uri, api_version=None)\n",
    "mgmt_token = context.acquire_token_with_client_credentials(RESOURCE, client_id, client_secret)\n",
    "armCreds = AADTokenCredentials(mgmt_token, client_id, resource=RESOURCE)"
   ]
  },
  {
   "cell_type": "code",
   "execution_count": 13,
   "metadata": {
    "collapsed": false
   },
   "outputs": [],
   "source": [
    "msmc = MediaServicesManagementClient(\n",
    "    credentials=armCreds,\n",
    "    subscription_id=\"f2c4eead-cd53-4d01-ad98-239964e1f758\",\n",
    "    base_url=\"\")"
   ]
  },
  {
   "cell_type": "code",
   "execution_count": 33,
   "metadata": {
    "collapsed": true
   },
   "outputs": [],
   "source": [
    "armCreds?"
   ]
  },
  {
   "cell_type": "code",
   "execution_count": 34,
   "metadata": {
    "collapsed": false
   },
   "outputs": [
    {
     "data": {
      "text/plain": [
       "{'auth_uri': 'https://login.microsoftonline.com/common/oauth2/authorize',\n",
       " 'cloud_environment': <msrestazure.azure_cloud.Cloud at 0x7fa923bf4550>,\n",
       " 'cred_store': 'AzureAAD',\n",
       " 'id': 'ca05c6ca-eb21-4d40-9f06-37449178f6da',\n",
       " 'proxies': None,\n",
       " 'resource': 'https://management.core.windows.net/',\n",
       " 'scheme': 'Bearer',\n",
       " 'state': 'MbomtfDoxUPLv0lUxGCTvwO8yBhO40',\n",
       " 'store_key': 'https://login.microsoftonline.com_ca05c6ca-eb21-4d40-9f06-37449178f6da',\n",
       " 'timeout': None,\n",
       " 'token': {'_authority': 'https://login.microsoftonline.com/ar.onmicrosoft.com',\n",
       "  '_client_id': 'ca05c6ca-eb21-4d40-9f06-37449178f6da',\n",
       "  'access_token': 'eyJ0eXAiOiJKV1QiLCJhbGciOiJSUzI1NiIsIng1dCI6Ing0Nzh4eU9wbHNNMUg3TlhrN1N4MTd4MXVwYyIsImtpZCI6Ing0Nzh4eU9wbHNNMUg3TlhrN1N4MTd4MXVwYyJ9.eyJhdWQiOiJodHRwczovL21hbmFnZW1lbnQuY29yZS53aW5kb3dzLm5ldC8iLCJpc3MiOiJodHRwczovL3N0cy53aW5kb3dzLm5ldC85YmRlZjRiZi1kYTlkLTRlNWQtYTI1YS01OTM1ZjJkYWQ0ZDIvIiwiaWF0IjoxNTEyNDYxNDYzLCJuYmYiOjE1MTI0NjE0NjMsImV4cCI6MTUxMjQ2NTM2MywiYWlvIjoiWTJOZ1lMQVdOTHF5c2ExVS9venNPYnQ2M1ZRbEFBPT0iLCJhcHBpZCI6ImNhMDVjNmNhLWViMjEtNGQ0MC05ZjA2LTM3NDQ5MTc4ZjZkNSIsImFwcGlkYWNyIjoiMSIsImVfZXhwIjoyNjI4MDAsImlkcCI6Imh0dHBzOi8vc3RzLndpbmRvd3MubmV0LzliZGVmNGJmLWRhOWQtNGU1ZC1hMjVhLTU5MzVmMmRhZDRkMi8iLCJvaWQiOiI5NzlmYWVjNS00NWRiLTRjZTYtOGY3NS0xMDQ4ZmRmNDc3ZTYiLCJzdWIiOiI5NzlmYWVjNS00NWRiLTRjZTYtOGY3NS0xMDQ4ZmRmNDc3ZTYiLCJ0aWQiOiI5YmRlZjRiZi1kYTlkLTRlNWQtYTI1YS01OTM1ZjJkYWQ0ZDIiLCJ1dGkiOiI5Y0hUdlZkRjJVYWJpQ0tCcmZvQkFBIiwidmVyIjoiMS4wIn0.VcyMU6aEWZvR6Ls8tgvp2jkQsvAdfhpJstPSUjsSWEYdUhtc84NmMFHziqDvxmdtb25YYnMdAFzprcn1O7mcHafoE_oRMKQJ5SMZHyLmHNd-9Lk8ML0y1nxgFIYxc9w4JOIilDUeDfHA6WAALc86ZI9adVJVjQ38z48W9fgKkt_NGwiWyHdc1NwbX7bLpJnaOAAG3J0WSKOKW8dxYyepHBNNZwwEO0LAjNf5rDCrjx3RmP-cDljNplS4P7DCsIdu2ZgaslvZI76bEjb_TjkJK5gLaJNocbBWqcSbejyYxNkDwgbOqT9sNs81esjbTQmnxziTvcs3j5JEhE1ivJt2fw',\n",
       "  'expires_in': 3600,\n",
       "  'expires_on': '2017-12-05 18:16:03.502403',\n",
       "  'is_mrrt': True,\n",
       "  'resource': 'https://management.core.windows.net/',\n",
       "  'token_type': 'Bearer'},\n",
       " 'token_uri': 'https://login.microsoftonline.com/common/oauth2/token',\n",
       " 'verify': True}"
      ]
     },
     "execution_count": 34,
     "metadata": {},
     "output_type": "execute_result"
    }
   ],
   "source": [
    "vars(armCreds)"
   ]
  },
  {
   "cell_type": "code",
   "execution_count": 36,
   "metadata": {
    "collapsed": false
   },
   "outputs": [
    {
     "data": {
      "text/plain": [
       "{'_client': <msrest.service_client.ServiceClient at 0x7fa9232900f0>,\n",
       " '_deserialize': <msrest.serialization.Deserializer at 0x7fa923290198>,\n",
       " '_serialize': <msrest.serialization.Serializer at 0x7fa923290160>,\n",
       " 'api_version': '2015-10-01',\n",
       " 'config': <azure.mgmt.media.media_services_management_client.MediaServicesManagementClientConfiguration at 0x7fa93c2bd7f0>,\n",
       " 'media_service': <azure.mgmt.media.operations.media_service_operations.MediaServiceOperations at 0x7fa9232901d0>,\n",
       " 'operations': <azure.mgmt.media.operations.operations.Operations at 0x7fa923290128>}"
      ]
     },
     "execution_count": 36,
     "metadata": {},
     "output_type": "execute_result"
    }
   ],
   "source": [
    "vars(msmc)"
   ]
  },
  {
   "cell_type": "markdown",
   "metadata": {},
   "source": [
    "## 大まかにいうと、以下3つのタスクでいい気がします。\n",
    "\n",
    "1. Media Service の API Access というメニューから Service Principal 認証できるようにする - https://docs.microsoft.com/en-us/azure/media-services/media-services-portal-get-started-with-aad\n",
    "2. REST API を使って AAD - https://docs.microsoft.com/en-us/azure/media-services/media-services-rest-connect-with-aad\n",
    "3. Media Service にファイルをアップロードする。Asset(fileへのポインタ)作成->Locator(公開ポイント)作成->アップロード)。Media Serice経由でBlob にアップロードというイメージです。\n",
    "4. Asset に対してMedia Processor API を呼ぶ (要検証) - https://docs.microsoft.com/en-us/rest/api/media/operations/mediaprocessor\n",
    "5. Processorで作成された Asset (モザイク済み) に対して Locatorを作って、ダウンロード期間等をセットする。\n",
    "\n",
    "* https://docs.microsoft.com/ja-jp/azure/data-lake-store/data-lake-store-service-to-service-authenticate-python\n",
    "* https://docs.microsoft.com/en-us/rest/api/media/operations/azure-media-services-rest-api-reference\n",
    "* https://docs.microsoft.com/ja-jp/azure/media-services/media-services-dotnet-get-started\n",
    "* https://docs.microsoft.com/en-us/rest/api/media/operations/azure-media-services-rest-api-reference\n",
    "\n",
    "## sdk の docs\n",
    "\n",
    "* https://github.com/Azure/azure-sdk-for-python/tree/master/azure-mgmt-media\n",
    "* https://azure.microsoft.com/en-us/resources/samples/media-services-dotnet-functions-integration/\n",
    "* https://azure-sdk-for-python.readthedocs.io/en/latest/ref/azure.mgmt.media.html#module-azure.mgmt.media\n",
    "* https://azure.github.io/azure-sdk-for-java/index.html?com/microsoft/windowsazure/management/mediaservices/MediaServicesManagementClient.html\n",
    "* https://docs.microsoft.com/ja-jp/azure/data-lake-store/data-lake-store-service-to-service-authenticate-python\n",
    "* https://azure.microsoft.com/en-us/resources/samples/?sort=0&service=media-services&term=MediaServicesManagementClient"
   ]
  }
 ],
 "metadata": {
  "anaconda-cloud": {},
  "kernelspec": {
   "display_name": "Python [Root]",
   "language": "python",
   "name": "Python [Root]"
  },
  "language_info": {
   "codemirror_mode": {
    "name": "ipython",
    "version": 3
   },
   "file_extension": ".py",
   "mimetype": "text/x-python",
   "name": "python",
   "nbconvert_exporter": "python",
   "pygments_lexer": "ipython3",
   "version": "3.5.2"
  }
 },
 "nbformat": 4,
 "nbformat_minor": 0
}
